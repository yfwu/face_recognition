{
 "cells": [
  {
   "cell_type": "code",
   "execution_count": null,
   "metadata": {
    "scrolled": true
   },
   "outputs": [],
   "source": [
    "import requests\n",
    "from bs4 import BeautifulSoup\n",
    "import re\n",
    "import shutil\n",
    "import time\n",
    "\n",
    "session = requests.Session()\n",
    "headers = {'User-Agent': 'Mozilla/5.0 (Macintosh; Intel Mac OS X 10_10_1) AppleWebKit/537.36 (KHTML, like Gecko) Chrome/39.0.2171.95 Safari/537.36'}\n",
    "\n",
    "url = \"https://www.javbus.com/actresses/\"\n",
    "\n",
    "namelist = []\n",
    "for page in range(1, 209):\n",
    "    req = session.get(url+str(page), headers=headers)\n",
    "    bsObj = BeautifulSoup(req.text)\n",
    "    namelist.extend([{\"title\":i[\"title\"], \"src\":i[\"src\"]} for i in bsObj.findAll(\"img\", {\"src\":re.compile(\".*\\.jpg\")})])\n",
    "    time.sleep(0.3)\n",
    "\n",
    "for name in namelist:         \n",
    "    response = requests.get(name[\"src\"], stream=True, headers=headers)\n",
    "    with open(\"database/\"+name[\"title\"]+'.jpg', 'wb') as out_file:\n",
    "        shutil.copyfileobj(response.raw, out_file)\n",
    "    del response\n",
    "    time.sleep(0.3)"
   ]
  },
  {
   "cell_type": "code",
   "execution_count": null,
   "metadata": {},
   "outputs": [],
   "source": [
    "import os\n",
    "import face_recognition\n",
    "import pprint\n",
    "import sys\n",
    "\n",
    "avtest = []\n",
    "for root, dirs, files in os.walk(\"database\"):\n",
    "    for filename in files:\n",
    "        if 'jpg' in filename:\n",
    "            avtest.append(\"database/\" + filename)\n",
    "\n",
    "class target:\n",
    "    def __init__(self, f):\n",
    "        try:\n",
    "            self.name = f\n",
    "            self._img = face_recognition.load_image_file(f)\n",
    "            self.encoding = face_recognition.face_encodings(self._img)[0]\n",
    "            self.failed = False\n",
    "        except:\n",
    "            self.failed = True\n",
    "\n",
    "extracted = [target(f) for f in avtest if target(f).failed == False]\n",
    "all_encoding = [f.encoding for f in extracted]\n",
    "all_name = [f.name for f in extracted]\n",
    "t_img = face_recognition.load_image_file(sys.argv[1])\n",
    "t_encoding = face_recognition.face_encodings(t_img)[0]\n",
    "\n",
    "\n",
    "result = sorted(zip(face_recognition.api.face_distance(all_encoding, t_encoding), all_name))\n",
    "\n",
    "pprint.pprint(result[0:5])"
   ]
  },
  {
   "cell_type": "code",
   "execution_count": null,
   "metadata": {},
   "outputs": [],
   "source": []
  }
 ],
 "metadata": {
  "kernelspec": {
   "display_name": "Python 3",
   "language": "python",
   "name": "python3"
  },
  "language_info": {
   "codemirror_mode": {
    "name": "ipython",
    "version": 3
   },
   "file_extension": ".py",
   "mimetype": "text/x-python",
   "name": "python",
   "nbconvert_exporter": "python",
   "pygments_lexer": "ipython3",
   "version": "3.7.4"
  }
 },
 "nbformat": 4,
 "nbformat_minor": 2
}
